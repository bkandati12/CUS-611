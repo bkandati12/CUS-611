{
 "cells": [
  {
   "cell_type": "markdown",
   "id": "9a0d555b",
   "metadata": {},
   "source": [
    "# Customer Classification\n",
    "\n",
    "\n"
   ]
  },
  {
   "cell_type": "markdown",
   "id": "1c615775",
   "metadata": {},
   "source": [
    "#### Use Cases\n",
    "##### - Product Recommendations\n",
    "##### - Sales Planning \n",
    "##### - Inventory & Cost Management"
   ]
  },
  {
   "cell_type": "markdown",
   "id": "0b58af69",
   "metadata": {},
   "source": [
    "### The goal of this project is to perform Sales Analysis and Classification Customer based on Gender, Marital Status, Education Status and Credit Rating.\n",
    "####  Exploratory Data Analysis\n",
    "    -Data Extraction\n",
    "    -Data Cleansing\n",
    "    -Data Munging\n",
    "    -Data Profiling\n",
    "#### Model Selection\n",
    "    -Feature Selection\n",
    "    -Naive Bayes Model\n",
    "    -Decision Tree\n",
    "    -Random Model\n",
    "#### Model Implementation & Evaluation\n",
    "    -Train/Test Split Data\n",
    "    -Train Model\n",
    "    -Classification Report\n",
    "    -Confusion Matrix\n",
    "    -Test Scores"
   ]
  },
  {
   "cell_type": "code",
   "execution_count": null,
   "id": "473edbb2",
   "metadata": {},
   "outputs": [],
   "source": [
    "!pip install snowflake-connector-python"
   ]
  },
  {
   "cell_type": "code",
   "execution_count": 98,
   "id": "9d454f74",
   "metadata": {},
   "outputs": [],
   "source": [
    "# Import Packages\n",
    "\n",
    "import math\n",
    "import statistics\n",
    "import scipy.stats\n",
    "import pandas as pd\n",
    "import numpy as np\n",
    "import matplotlib.pyplot as plt\n",
    "%matplotlib inline\n",
    "import seaborn as sns\n",
    "import getpass\n",
    "import snowflake.connector\n",
    "from sklearn.model_selection import train_test_split, cross_val_score\n",
    "from sklearn.preprocessing import LabelEncoder\n",
    "from sklearn.feature_selection import SelectKBest, chi2\n",
    "from sklearn.tree import DecisionTreeClassifier\n",
    "from sklearn.ensemble import RandomForestClassifier\n",
    "from sklearn.naive_bayes import GaussianNB\n",
    "from sklearn.metrics import accuracy_score,classification_report,confusion_matrix\n",
    "from sklearn.metrics import r2_score\n",
    "from sklearn.metrics import mean_squared_error\n",
    "import warnings\n",
    "warnings.filterwarnings('ignore')"
   ]
  },
  {
   "cell_type": "markdown",
   "id": "909235b2",
   "metadata": {},
   "source": [
    "\n",
    "\n",
    "\n",
    "\n",
    "\n",
    "\n",
    "\n",
    "\n",
    "\n",
    "\n",
    "\n",
    "\n",
    "\n",
    "\n",
    "\n",
    "\n",
    "\n",
    "\n",
    "# SnowFlake Integration"
   ]
  },
  {
   "cell_type": "code",
   "execution_count": 2,
   "id": "487b53d0",
   "metadata": {},
   "outputs": [
    {
     "name": "stdout",
     "output_type": "stream",
     "text": [
      "Enter Password:········\n"
     ]
    }
   ],
   "source": [
    "'''Snowflake Connection Object'''\n",
    "\n",
    "pwd = getpass.getpass('Enter Password:')\n",
    "connection = snowflake.connector.connect(user='SAIBHARATH846', \n",
    "                                         password=str(pwd), \n",
    "                                         account='WVB49440.us-east-1')"
   ]
  },
  {
   "cell_type": "markdown",
   "id": "e1f507b4",
   "metadata": {},
   "source": [
    "### Data Extraction\n",
    "\n",
    "    -Extract data from Snowflake TPC-DC Warehouse (Transaction Processing Peformance Council).\n",
    "\n",
    "    -Implement data Completeness check joining with dimension tables and to exclude not null values.\n",
    "    \n",
    "    -30,000 Records"
   ]
  },
  {
   "cell_type": "code",
   "execution_count": 3,
   "id": "d1482376",
   "metadata": {},
   "outputs": [],
   "source": [
    "''' \n",
    "    Extract data from Snowflake TPC-DC Warehouse (Transaction Processing Peformance Council).\n",
    "    In this query we will extract customer catalog sales history data related to various product categories, \n",
    "    brands, class items and  along with customer type/dimension attributes such as Gender, Marital Status, \n",
    "    Education Status and Credit Rating.\n",
    "'''\n",
    "\n",
    "\n",
    "query_catalog_sales = 'SELECT CD.CD_GENDER, CD.CD_MARITAL_STATUS, CD.CD_EDUCATION_STATUS, CD.CD_CREDIT_RATING, \\\n",
    "                       I.I_PRODUCT_NAME,I.I_CATEGORY, I.I_BRAND, I.I_CLASS, \\\n",
    "                       CS.* FROM SNOWFLAKE_SAMPLE_DATA.TPCDS_SF10TCL.CATALOG_SALES CS \\\n",
    "                       INNER JOIN SNOWFLAKE_SAMPLE_DATA.TPCDS_SF10TCL.ITEM I on CS.CS_ITEM_SK = I.I_ITEM_SK \\\n",
    "                       INNER JOIN SNOWFLAKE_SAMPLE_DATA.TPCDS_SF10TCL.CUSTOMER_DEMOGRAPHICS CD on CD.CD_DEMO_SK = CS.CS_BILL_CDEMO_SK \\\n",
    "                       WHERE CS.CS_SOLD_DATE_SK IS NOT NULL \\\n",
    "                       AND I.I_CATEGORY IS NOT NULL \\\n",
    "                       AND I.I_BRAND IS NOT NULL \\\n",
    "                       AND I.I_CLASS IS NOT NULL \\\n",
    "                       AND I.I_PRODUCT_NAME IS NOT NULL \\\n",
    "                       ORDER BY CS.CS_SOLD_DATE_SK DESC \\\n",
    "                       limit 30000;'\n",
    "\n",
    "df_catalog_sales = pd.read_sql(query_catalog_sales, connection)\n"
   ]
  },
  {
   "cell_type": "markdown",
   "id": "bf4f1fa4",
   "metadata": {},
   "source": [
    "### Data Cleansing"
   ]
  },
  {
   "cell_type": "code",
   "execution_count": 4,
   "id": "28ae36b4",
   "metadata": {},
   "outputs": [
    {
     "data": {
      "text/plain": [
       "Index(['CD_GENDER', 'CD_MARITAL_STATUS', 'CD_EDUCATION_STATUS',\n",
       "       'CD_CREDIT_RATING', 'I_PRODUCT_NAME', 'I_CATEGORY', 'I_BRAND',\n",
       "       'I_CLASS', 'CS_SOLD_DATE_SK', 'CS_SOLD_TIME_SK', 'CS_SHIP_DATE_SK',\n",
       "       'CS_BILL_CUSTOMER_SK', 'CS_BILL_CDEMO_SK', 'CS_BILL_HDEMO_SK',\n",
       "       'CS_BILL_ADDR_SK', 'CS_SHIP_CUSTOMER_SK', 'CS_SHIP_CDEMO_SK',\n",
       "       'CS_SHIP_HDEMO_SK', 'CS_SHIP_ADDR_SK', 'CS_CALL_CENTER_SK',\n",
       "       'CS_CATALOG_PAGE_SK', 'CS_SHIP_MODE_SK', 'CS_WAREHOUSE_SK',\n",
       "       'CS_ITEM_SK', 'CS_PROMO_SK', 'CS_ORDER_NUMBER', 'CS_QUANTITY',\n",
       "       'CS_WHOLESALE_COST', 'CS_LIST_PRICE', 'CS_SALES_PRICE',\n",
       "       'CS_EXT_DISCOUNT_AMT', 'CS_EXT_SALES_PRICE', 'CS_EXT_WHOLESALE_COST',\n",
       "       'CS_EXT_LIST_PRICE', 'CS_EXT_TAX', 'CS_COUPON_AMT', 'CS_EXT_SHIP_COST',\n",
       "       'CS_NET_PAID', 'CS_NET_PAID_INC_TAX', 'CS_NET_PAID_INC_SHIP',\n",
       "       'CS_NET_PAID_INC_SHIP_TAX', 'CS_NET_PROFIT'],\n",
       "      dtype='object')"
      ]
     },
     "execution_count": 4,
     "metadata": {},
     "output_type": "execute_result"
    }
   ],
   "source": [
    "df_catalog_sales.columns"
   ]
  },
  {
   "cell_type": "code",
   "execution_count": 5,
   "id": "c7bfe51b",
   "metadata": {},
   "outputs": [],
   "source": [
    "# Select required columns to build Data Classification Model\n",
    "# Remove columns related to  Tax , Discount\n",
    "\n",
    "df_catalog_sales = df_catalog_sales[['CD_GENDER', \n",
    "                                     'CD_MARITAL_STATUS',\n",
    "                                     'CD_EDUCATION_STATUS',\n",
    "                                     'CD_CREDIT_RATING', \n",
    "                                     'I_PRODUCT_NAME', \n",
    "                                     'I_CATEGORY',\n",
    "                                     'I_CLASS', \n",
    "                                     'CS_QUANTITY',\n",
    "                                     'CS_WHOLESALE_COST', \n",
    "                                     'CS_LIST_PRICE',\n",
    "                                     'CS_SALES_PRICE', \n",
    "                                     'CS_EXT_DISCOUNT_AMT',\n",
    "                                     'CS_EXT_SALES_PRICE', \n",
    "                                     'CS_EXT_WHOLESALE_COST',\n",
    "                                     'CS_EXT_LIST_PRICE', \n",
    "                                     'CS_EXT_SHIP_COST',\n",
    "                                     'CS_NET_PAID',\n",
    "                                     'CS_NET_PROFIT']]"
   ]
  },
  {
   "cell_type": "code",
   "execution_count": 6,
   "id": "81c019f5",
   "metadata": {},
   "outputs": [
    {
     "name": "stdout",
     "output_type": "stream",
     "text": [
      "<class 'pandas.core.frame.DataFrame'>\n",
      "RangeIndex: 30000 entries, 0 to 29999\n",
      "Data columns (total 18 columns):\n",
      " #   Column                 Non-Null Count  Dtype  \n",
      "---  ------                 --------------  -----  \n",
      " 0   CD_GENDER              30000 non-null  object \n",
      " 1   CD_MARITAL_STATUS      30000 non-null  object \n",
      " 2   CD_EDUCATION_STATUS    30000 non-null  object \n",
      " 3   CD_CREDIT_RATING       30000 non-null  object \n",
      " 4   I_PRODUCT_NAME         30000 non-null  object \n",
      " 5   I_CATEGORY             30000 non-null  object \n",
      " 6   I_CLASS                30000 non-null  object \n",
      " 7   CS_QUANTITY            29954 non-null  float64\n",
      " 8   CS_WHOLESALE_COST      29950 non-null  float64\n",
      " 9   CS_LIST_PRICE          29960 non-null  float64\n",
      " 10  CS_SALES_PRICE         29955 non-null  float64\n",
      " 11  CS_EXT_DISCOUNT_AMT    29955 non-null  float64\n",
      " 12  CS_EXT_SALES_PRICE     29956 non-null  float64\n",
      " 13  CS_EXT_WHOLESALE_COST  29950 non-null  float64\n",
      " 14  CS_EXT_LIST_PRICE      29955 non-null  float64\n",
      " 15  CS_EXT_SHIP_COST       29963 non-null  float64\n",
      " 16  CS_NET_PAID            29970 non-null  float64\n",
      " 17  CS_NET_PROFIT          30000 non-null  float64\n",
      "dtypes: float64(11), object(7)\n",
      "memory usage: 4.1+ MB\n"
     ]
    }
   ],
   "source": [
    "df_catalog_sales.info()"
   ]
  },
  {
   "cell_type": "code",
   "execution_count": 7,
   "id": "05989422",
   "metadata": {},
   "outputs": [
    {
     "data": {
      "text/plain": [
       "(30000, 18)"
      ]
     },
     "execution_count": 7,
     "metadata": {},
     "output_type": "execute_result"
    }
   ],
   "source": [
    "df_catalog_sales.shape"
   ]
  },
  {
   "cell_type": "code",
   "execution_count": 8,
   "id": "8f8a3b7e",
   "metadata": {},
   "outputs": [
    {
     "name": "stdout",
     "output_type": "stream",
     "text": [
      "Children       3233\n",
      "Electronics    3203\n",
      "Music          3156\n",
      "Books          3122\n",
      "Jewelry        3014\n",
      "Men            2964\n",
      "Shoes          2953\n",
      "Women          2935\n",
      "Home           2774\n",
      "Sports         2646\n",
      "Name: I_CATEGORY, dtype: int64\n"
     ]
    }
   ],
   "source": [
    "# Check individual catergory sale counts\n",
    "\n",
    "df_catalog_sales_category = df_catalog_sales['I_CATEGORY'].value_counts()\n",
    "print(df_catalog_sales_category)"
   ]
  },
  {
   "cell_type": "code",
   "execution_count": 13,
   "id": "d5393cfb",
   "metadata": {},
   "outputs": [],
   "source": [
    "# Handle NA values\n",
    "df_catalog_sales.replace('', np.nan, inplace=True)\n",
    "df_catalog_sales.fillna(value=np.nan, inplace=True)\n",
    "df_catalog_sales.dropna(axis=0, inplace=True)"
   ]
  },
  {
   "cell_type": "code",
   "execution_count": 14,
   "id": "8d89fa48",
   "metadata": {},
   "outputs": [
    {
     "data": {
      "text/plain": [
       "CD_GENDER                0\n",
       "CD_MARITAL_STATUS        0\n",
       "CD_EDUCATION_STATUS      0\n",
       "CD_CREDIT_RATING         0\n",
       "I_PRODUCT_NAME           0\n",
       "I_CATEGORY               0\n",
       "I_CLASS                  0\n",
       "CS_QUANTITY              0\n",
       "CS_WHOLESALE_COST        0\n",
       "CS_LIST_PRICE            0\n",
       "CS_SALES_PRICE           0\n",
       "CS_EXT_DISCOUNT_AMT      0\n",
       "CS_EXT_SALES_PRICE       0\n",
       "CS_EXT_WHOLESALE_COST    0\n",
       "CS_EXT_LIST_PRICE        0\n",
       "CS_EXT_SHIP_COST         0\n",
       "CS_NET_PAID              0\n",
       "CS_NET_PROFIT            0\n",
       "dtype: int64"
      ]
     },
     "execution_count": 14,
     "metadata": {},
     "output_type": "execute_result"
    }
   ],
   "source": [
    "df_catalog_sales.isna().sum()"
   ]
  },
  {
   "cell_type": "code",
   "execution_count": 11,
   "id": "231045d5",
   "metadata": {},
   "outputs": [
    {
     "data": {
      "text/plain": [
       "False"
      ]
     },
     "execution_count": 11,
     "metadata": {},
     "output_type": "execute_result"
    }
   ],
   "source": [
    "# Handle Duplicates\n",
    "duplicates = df_catalog_sales.duplicated()\n",
    "duplicates.any()"
   ]
  },
  {
   "cell_type": "code",
   "execution_count": 15,
   "id": "5c6e45df",
   "metadata": {},
   "outputs": [],
   "source": [
    "# Exclude non-negative Net Profit Values - We will use later\n",
    "df_catalog_sales = df_catalog_sales.loc[df_catalog_sales['CS_NET_PROFIT'] >= 0]"
   ]
  },
  {
   "cell_type": "code",
   "execution_count": 16,
   "id": "d8c9e2c9",
   "metadata": {},
   "outputs": [],
   "source": [
    "# Remove whitespace from string columns\n",
    "df_catalog_sales = df_catalog_sales.apply(lambda x: x.str.strip() if x.dtype == 'object' else x)"
   ]
  },
  {
   "cell_type": "code",
   "execution_count": 17,
   "id": "0a5c453e",
   "metadata": {},
   "outputs": [
    {
     "data": {
      "text/html": [
       "<div>\n",
       "<style scoped>\n",
       "    .dataframe tbody tr th:only-of-type {\n",
       "        vertical-align: middle;\n",
       "    }\n",
       "\n",
       "    .dataframe tbody tr th {\n",
       "        vertical-align: top;\n",
       "    }\n",
       "\n",
       "    .dataframe thead th {\n",
       "        text-align: right;\n",
       "    }\n",
       "</style>\n",
       "<table border=\"1\" class=\"dataframe\">\n",
       "  <thead>\n",
       "    <tr style=\"text-align: right;\">\n",
       "      <th></th>\n",
       "      <th>CS_QUANTITY</th>\n",
       "      <th>CS_WHOLESALE_COST</th>\n",
       "      <th>CS_LIST_PRICE</th>\n",
       "      <th>CS_SALES_PRICE</th>\n",
       "      <th>CS_EXT_DISCOUNT_AMT</th>\n",
       "      <th>CS_EXT_SALES_PRICE</th>\n",
       "      <th>CS_EXT_WHOLESALE_COST</th>\n",
       "      <th>CS_EXT_LIST_PRICE</th>\n",
       "      <th>CS_EXT_SHIP_COST</th>\n",
       "      <th>CS_NET_PAID</th>\n",
       "      <th>CS_NET_PROFIT</th>\n",
       "    </tr>\n",
       "  </thead>\n",
       "  <tbody>\n",
       "    <tr>\n",
       "      <th>count</th>\n",
       "      <td>11701.000000</td>\n",
       "      <td>11701.000000</td>\n",
       "      <td>11701.000000</td>\n",
       "      <td>11701.000000</td>\n",
       "      <td>11701.000000</td>\n",
       "      <td>11701.000000</td>\n",
       "      <td>11701.000000</td>\n",
       "      <td>11701.000000</td>\n",
       "      <td>11701.000000</td>\n",
       "      <td>11701.000000</td>\n",
       "      <td>11701.000000</td>\n",
       "    </tr>\n",
       "    <tr>\n",
       "      <th>mean</th>\n",
       "      <td>50.972396</td>\n",
       "      <td>50.487395</td>\n",
       "      <td>113.121852</td>\n",
       "      <td>82.844613</td>\n",
       "      <td>1537.546551</td>\n",
       "      <td>4217.713017</td>\n",
       "      <td>2567.552048</td>\n",
       "      <td>5755.259568</td>\n",
       "      <td>1448.409931</td>\n",
       "      <td>4134.086893</td>\n",
       "      <td>1566.534846</td>\n",
       "    </tr>\n",
       "    <tr>\n",
       "      <th>std</th>\n",
       "      <td>28.653050</td>\n",
       "      <td>28.529743</td>\n",
       "      <td>70.062102</td>\n",
       "      <td>54.196694</td>\n",
       "      <td>2016.258617</td>\n",
       "      <td>3958.075685</td>\n",
       "      <td>2203.592655</td>\n",
       "      <td>5219.011567</td>\n",
       "      <td>1742.847658</td>\n",
       "      <td>3891.086427</td>\n",
       "      <td>2074.742133</td>\n",
       "    </tr>\n",
       "    <tr>\n",
       "      <th>min</th>\n",
       "      <td>1.000000</td>\n",
       "      <td>1.000000</td>\n",
       "      <td>1.450000</td>\n",
       "      <td>1.080000</td>\n",
       "      <td>0.000000</td>\n",
       "      <td>1.240000</td>\n",
       "      <td>1.050000</td>\n",
       "      <td>1.760000</td>\n",
       "      <td>0.000000</td>\n",
       "      <td>1.240000</td>\n",
       "      <td>0.000000</td>\n",
       "    </tr>\n",
       "    <tr>\n",
       "      <th>25%</th>\n",
       "      <td>26.000000</td>\n",
       "      <td>25.790000</td>\n",
       "      <td>55.500000</td>\n",
       "      <td>39.440000</td>\n",
       "      <td>207.760000</td>\n",
       "      <td>1170.130000</td>\n",
       "      <td>765.120000</td>\n",
       "      <td>1661.060000</td>\n",
       "      <td>231.600000</td>\n",
       "      <td>1146.600000</td>\n",
       "      <td>211.890000</td>\n",
       "    </tr>\n",
       "    <tr>\n",
       "      <th>50%</th>\n",
       "      <td>51.000000</td>\n",
       "      <td>50.640000</td>\n",
       "      <td>106.240000</td>\n",
       "      <td>76.320000</td>\n",
       "      <td>740.900000</td>\n",
       "      <td>3040.500000</td>\n",
       "      <td>1937.130000</td>\n",
       "      <td>4215.620000</td>\n",
       "      <td>790.020000</td>\n",
       "      <td>2967.840000</td>\n",
       "      <td>764.730000</td>\n",
       "    </tr>\n",
       "    <tr>\n",
       "      <th>75%</th>\n",
       "      <td>75.000000</td>\n",
       "      <td>74.900000</td>\n",
       "      <td>165.150000</td>\n",
       "      <td>116.630000</td>\n",
       "      <td>2056.310000</td>\n",
       "      <td>6152.500000</td>\n",
       "      <td>3902.580000</td>\n",
       "      <td>8534.400000</td>\n",
       "      <td>2017.600000</td>\n",
       "      <td>6056.640000</td>\n",
       "      <td>2060.400000</td>\n",
       "    </tr>\n",
       "    <tr>\n",
       "      <th>max</th>\n",
       "      <td>100.000000</td>\n",
       "      <td>100.000000</td>\n",
       "      <td>295.530000</td>\n",
       "      <td>290.700000</td>\n",
       "      <td>14666.000000</td>\n",
       "      <td>26892.000000</td>\n",
       "      <td>9899.000000</td>\n",
       "      <td>29343.000000</td>\n",
       "      <td>11600.640000</td>\n",
       "      <td>26892.000000</td>\n",
       "      <td>17807.000000</td>\n",
       "    </tr>\n",
       "  </tbody>\n",
       "</table>\n",
       "</div>"
      ],
      "text/plain": [
       "        CS_QUANTITY  CS_WHOLESALE_COST  CS_LIST_PRICE  CS_SALES_PRICE  \\\n",
       "count  11701.000000       11701.000000   11701.000000    11701.000000   \n",
       "mean      50.972396          50.487395     113.121852       82.844613   \n",
       "std       28.653050          28.529743      70.062102       54.196694   \n",
       "min        1.000000           1.000000       1.450000        1.080000   \n",
       "25%       26.000000          25.790000      55.500000       39.440000   \n",
       "50%       51.000000          50.640000     106.240000       76.320000   \n",
       "75%       75.000000          74.900000     165.150000      116.630000   \n",
       "max      100.000000         100.000000     295.530000      290.700000   \n",
       "\n",
       "       CS_EXT_DISCOUNT_AMT  CS_EXT_SALES_PRICE  CS_EXT_WHOLESALE_COST  \\\n",
       "count         11701.000000        11701.000000           11701.000000   \n",
       "mean           1537.546551         4217.713017            2567.552048   \n",
       "std            2016.258617         3958.075685            2203.592655   \n",
       "min               0.000000            1.240000               1.050000   \n",
       "25%             207.760000         1170.130000             765.120000   \n",
       "50%             740.900000         3040.500000            1937.130000   \n",
       "75%            2056.310000         6152.500000            3902.580000   \n",
       "max           14666.000000        26892.000000            9899.000000   \n",
       "\n",
       "       CS_EXT_LIST_PRICE  CS_EXT_SHIP_COST   CS_NET_PAID  CS_NET_PROFIT  \n",
       "count       11701.000000      11701.000000  11701.000000   11701.000000  \n",
       "mean         5755.259568       1448.409931   4134.086893    1566.534846  \n",
       "std          5219.011567       1742.847658   3891.086427    2074.742133  \n",
       "min             1.760000          0.000000      1.240000       0.000000  \n",
       "25%          1661.060000        231.600000   1146.600000     211.890000  \n",
       "50%          4215.620000        790.020000   2967.840000     764.730000  \n",
       "75%          8534.400000       2017.600000   6056.640000    2060.400000  \n",
       "max         29343.000000      11600.640000  26892.000000   17807.000000  "
      ]
     },
     "execution_count": 17,
     "metadata": {},
     "output_type": "execute_result"
    }
   ],
   "source": [
    "# Summary Statistics\n",
    "df_catalog_sales.describe()"
   ]
  },
  {
   "cell_type": "markdown",
   "id": "34179465",
   "metadata": {},
   "source": [
    "#### Handle Outliers"
   ]
  },
  {
   "cell_type": "code",
   "execution_count": 18,
   "id": "11bc36fe",
   "metadata": {},
   "outputs": [
    {
     "data": {
      "image/png": "[encoded data removed]",
      "text/plain": [
       "<Figure size 1296x864 with 1 Axes>"
      ]
     },
     "metadata": {
      "needs_background": "light"
     },
     "output_type": "display_data"
    }
   ],
   "source": [
    "# Create a box plot \n",
    "\n",
    "outlier_check_columns = ['CD_GENDER', \n",
    "                         'CD_MARITAL_STATUS',\n",
    "                         'CD_EDUCATION_STATUS',\n",
    "                         'CD_CREDIT_RATING', \n",
    "                         'I_PRODUCT_NAME', \n",
    "                         'I_CATEGORY',\n",
    "                         'I_CLASS', \n",
    "                         'CS_QUANTITY',\n",
    "                         'CS_WHOLESALE_COST', \n",
    "                         'CS_LIST_PRICE',\n",
    "                         'CS_SALES_PRICE', \n",
    "                         'CS_EXT_DISCOUNT_AMT',\n",
    "                         'CS_EXT_SALES_PRICE', \n",
    "                         'CS_EXT_WHOLESALE_COST',\n",
    "                         'CS_EXT_LIST_PRICE', \n",
    "                         'CS_EXT_SHIP_COST',\n",
    "                         'CS_NET_PAID',\n",
    "                         'CS_NET_PROFIT']\n",
    "\n",
    "\n",
    "fig, ax = plt.subplots(figsize=(18, 12))\n",
    "df_catalog_sales[outlier_check_columns].plot(kind='box', ax=ax, widths=0.8,\n",
    "                             whiskerprops={'color': 'red', 'linewidth': 3},\n",
    "                              flierprops={'marker': 'o', 'markerfacecolor': 'red', \n",
    "                                          'markersize': 5, \n",
    "                                          'markeredgecolor': 'white', \n",
    "                                          'linewidth': 1.5},\n",
    "                             medianprops={'color': 'black'},\n",
    "                             patch_artist=True)\n",
    "ax.set_xticklabels(ax.get_xticklabels(), rotation=90)\n",
    "plt.show()"
   ]
  },
  {
   "cell_type": "code",
   "execution_count": 19,
   "id": "c8ae7520",
   "metadata": {},
   "outputs": [],
   "source": [
    "# Define a function to check for outliers, tweaking oultier multiper to 9 due to randomness of data\n",
    "\n",
    "def detect_outliers(col, df):\n",
    "    q1, q3 = np.percentile(df[col], [25, 75])\n",
    "    iqr = q3 - q1\n",
    "    lower_bound = q1 - (1.5 * iqr)\n",
    "    upper_bound = q3 + (1.5 * iqr)\n",
    "    outliers = df[(df[col] < lower_bound) | (df[col] > upper_bound)]\n",
    "    return outliers\n",
    "\n",
    "# Apply the function to each column and print the results\n",
    "columns = ['CS_QUANTITY',\n",
    "           'CS_WHOLESALE_COST', \n",
    "           'CS_LIST_PRICE',\n",
    "           'CS_SALES_PRICE', \n",
    "           'CS_EXT_DISCOUNT_AMT',\n",
    "           'CS_EXT_SALES_PRICE', \n",
    "           'CS_EXT_WHOLESALE_COST',\n",
    "           'CS_EXT_LIST_PRICE', \n",
    "           'CS_EXT_SHIP_COST',\n",
    "           'CS_NET_PAID',\n",
    "           'CS_NET_PROFIT']\n",
    "\n",
    "for col in columns:\n",
    "    outliers = detect_outliers(col, df_catalog_sales)\n",
    "\n",
    "# Remove the outliers from the original dataframe\n",
    "df_catalog_sales = df_catalog_sales[~df_catalog_sales.index.isin(outliers.index)]\n",
    "    \n"
   ]
  },
  {
   "cell_type": "code",
   "execution_count": 20,
   "id": "4bccb85e",
   "metadata": {},
   "outputs": [
    {
     "data": {
      "text/plain": [
       "(10779, 18)"
      ]
     },
     "execution_count": 20,
     "metadata": {},
     "output_type": "execute_result"
    }
   ],
   "source": [
    "df_catalog_sales.shape"
   ]
  },
  {
   "cell_type": "markdown",
   "id": "8337f67b",
   "metadata": {},
   "source": [
    "### Data Profiling"
   ]
  },
  {
   "cell_type": "code",
   "execution_count": 21,
   "id": "7e4cc094",
   "metadata": {},
   "outputs": [
    {
     "data": {
      "text/plain": [
       "<AxesSubplot:>"
      ]
     },
     "execution_count": 21,
     "metadata": {},
     "output_type": "execute_result"
    },
    {
     "data": {
      "image/png": "[encoded data removed]",
      "text/plain": [
       "<Figure size 864x864 with 2 Axes>"
      ]
     },
     "metadata": {
      "needs_background": "light"
     },
     "output_type": "display_data"
    }
   ],
   "source": [
    "# Heat Map to show correlation between data attributes\n",
    "# We can observe high correlation on the lighter side of the cells \n",
    "# Example\n",
    "# Positive correlation CS_EXT_SALE_PRICE -> CS_EXT_WHOLESALE_COST, CS_EXT_SALES_PRICE, CS_EXT_DISCOUNT_AMT\n",
    "# Negative Correlation CS_QUANTITY -> CS_WHOLESALE_COST, CS_LIST_PRICE, CS_SALES_PRICE\n",
    "plt.figure(figsize = (12,12))\n",
    "sns.heatmap(df_catalog_sales.corr(), annot =True)"
   ]
  },
  {
   "cell_type": "code",
   "execution_count": 22,
   "id": "bf58a575",
   "metadata": {},
   "outputs": [
    {
     "data": {
      "text/plain": [
       "CD_GENDER                    2\n",
       "CD_MARITAL_STATUS            5\n",
       "CD_EDUCATION_STATUS          7\n",
       "CD_CREDIT_RATING             4\n",
       "I_PRODUCT_NAME            3832\n",
       "I_CATEGORY                  10\n",
       "I_CLASS                     99\n",
       "CS_QUANTITY                100\n",
       "CS_WHOLESALE_COST         6545\n",
       "CS_LIST_PRICE             8580\n",
       "CS_SALES_PRICE            7786\n",
       "CS_EXT_DISCOUNT_AMT       9905\n",
       "CS_EXT_SALES_PRICE       10535\n",
       "CS_EXT_WHOLESALE_COST    10454\n",
       "CS_EXT_LIST_PRICE        10606\n",
       "CS_EXT_SHIP_COST          9888\n",
       "CS_NET_PAID              10551\n",
       "CS_NET_PROFIT             9989\n",
       "dtype: int64"
      ]
     },
     "execution_count": 22,
     "metadata": {},
     "output_type": "execute_result"
    }
   ],
   "source": [
    "# We can also see the number of unique users and items in the dataset.\n",
    "df_catalog_sales.nunique()"
   ]
  },
  {
   "cell_type": "code",
   "execution_count": 23,
   "id": "04e03456",
   "metadata": {},
   "outputs": [
    {
     "data": {
      "image/png": "[encoded data removed]",
      "text/plain": [
       "<Figure size 432x432 with 1 Axes>"
      ]
     },
     "metadata": {
      "needs_background": "light"
     },
     "output_type": "display_data"
    }
   ],
   "source": [
    "# Data distribution \n",
    "plt.figure(figsize=(6, 6))\n",
    "sns.countplot(x='CD_GENDER', data=df_catalog_sales)\n",
    "plt.show()"
   ]
  },
  {
   "cell_type": "code",
   "execution_count": 24,
   "id": "0fbdaca5",
   "metadata": {},
   "outputs": [
    {
     "data": {
      "text/plain": [
       "<Figure size 432x432 with 0 Axes>"
      ]
     },
     "metadata": {},
     "output_type": "display_data"
    },
    {
     "data": {
      "image/png": "[encoded data removed]",
      "text/plain": [
       "<Figure size 360x360 with 1 Axes>"
      ]
     },
     "metadata": {
      "needs_background": "light"
     },
     "output_type": "display_data"
    }
   ],
   "source": [
    "# Based on correlation\n",
    "\n",
    "plt.figure(figsize=(6, 6))\n",
    "sns.catplot(x=\"CD_GENDER\", y=\"CS_EXT_DISCOUNT_AMT\", data=df_catalog_sales, kind=\"violin\")\n",
    "plt.show()\n",
    "\n",
    "# Volume in the range or 0-~500"
   ]
  },
  {
   "cell_type": "code",
   "execution_count": 32,
   "id": "4c345b86",
   "metadata": {},
   "outputs": [
    {
     "data": {
      "image/png": "[encoded data removed]",
      "text/plain": [
       "<Figure size 864x864 with 1 Axes>"
      ]
     },
     "metadata": {},
     "output_type": "display_data"
    }
   ],
   "source": [
    "\n",
    "plt.figure(figsize=(12, 12))\n",
    "df_catalog_sales.groupby('I_CATEGORY')['CD_GENDER'].count().sort_values(ascending=False).plot(kind='pie')\n",
    "plt.show()"
   ]
  },
  {
   "cell_type": "code",
   "execution_count": 37,
   "id": "327c5319",
   "metadata": {},
   "outputs": [
    {
     "data": {
      "image/png": "[encoded data removed]",
      "text/plain": [
       "<Figure size 648x1512 with 5 Axes>"
      ]
     },
     "metadata": {
      "needs_background": "light"
     },
     "output_type": "display_data"
    }
   ],
   "source": [
    "# NET PROFIT DISTRIBUTIONS - \n",
    "\n",
    "cat_cols = ['CD_GENDER', 'CD_MARITAL_STATUS', 'CD_EDUCATION_STATUS', 'CD_CREDIT_RATING', 'I_CATEGORY']\n",
    "num_col = \"CS_NET_PROFIT\"\n",
    "\n",
    "fig, axs = plt.subplots(len(cat_cols), figsize=(9,21))\n",
    "for i, col in enumerate(cat_cols):\n",
    "    sns.barplot(x=col, y='CS_NET_PROFIT', data=df_catalog_sales, ax=axs[i])\n",
    "    axs[i].set_xlabel(col)\n",
    "    axs[i].set_ylabel('Net Profit')\n",
    "    #axs[i].invert_yaxis()\n",
    "plt.show()"
   ]
  },
  {
   "cell_type": "code",
   "execution_count": 76,
   "id": "6545d845",
   "metadata": {},
   "outputs": [],
   "source": [
    "# Drop categroical columns to define target lables, this is single label classification\n",
    "#df_catalog_sales = df_catalog_sales.drop(columns=['CD_GENDER', 'CD_MARITAL_STATUS',\n",
    "                                                               # 'CD_EDUCATION_STATUS',\n",
    "                                                                #'CD_CREDIT_RATING', 'I_PRODUCT_NAME',\n",
    "                                                               # 'I_CATEGORY', 'I_CLASS'])\n",
    "df_backup = df_catalog_sales\n",
    "#df_catalog_sales = df_backup"
   ]
  },
  {
   "cell_type": "code",
   "execution_count": 77,
   "id": "dacd3c2e",
   "metadata": {},
   "outputs": [],
   "source": [
    "# Label Encoding\n",
    "list_category = ['CD_GENDER', 'CD_MARITAL_STATUS', 'CD_EDUCATION_STATUS','CD_CREDIT_RATING',\n",
    "                 'I_PRODUCT_NAME', 'I_CATEGORY', 'I_CLASS']\n",
    "le=LabelEncoder()\n",
    "for i in list_category:\n",
    "    df_catalog_sales[i]=le.fit_transform(df_catalog_sales[i])"
   ]
  },
  {
   "cell_type": "code",
   "execution_count": 78,
   "id": "85e95650",
   "metadata": {},
   "outputs": [
    {
     "data": {
      "text/html": [
       "<div>\n",
       "<style scoped>\n",
       "    .dataframe tbody tr th:only-of-type {\n",
       "        vertical-align: middle;\n",
       "    }\n",
       "\n",
       "    .dataframe tbody tr th {\n",
       "        vertical-align: top;\n",
       "    }\n",
       "\n",
       "    .dataframe thead th {\n",
       "        text-align: right;\n",
       "    }\n",
       "</style>\n",
       "<table border=\"1\" class=\"dataframe\">\n",
       "  <thead>\n",
       "    <tr style=\"text-align: right;\">\n",
       "      <th></th>\n",
       "      <th>CD_GENDER</th>\n",
       "      <th>CD_MARITAL_STATUS</th>\n",
       "      <th>CD_EDUCATION_STATUS</th>\n",
       "      <th>CD_CREDIT_RATING</th>\n",
       "      <th>I_PRODUCT_NAME</th>\n",
       "      <th>I_CATEGORY</th>\n",
       "      <th>I_CLASS</th>\n",
       "      <th>CS_QUANTITY</th>\n",
       "      <th>CS_WHOLESALE_COST</th>\n",
       "      <th>CS_LIST_PRICE</th>\n",
       "      <th>CS_SALES_PRICE</th>\n",
       "      <th>CS_EXT_DISCOUNT_AMT</th>\n",
       "      <th>CS_EXT_SALES_PRICE</th>\n",
       "      <th>CS_EXT_WHOLESALE_COST</th>\n",
       "      <th>CS_EXT_LIST_PRICE</th>\n",
       "      <th>CS_EXT_SHIP_COST</th>\n",
       "      <th>CS_NET_PAID</th>\n",
       "      <th>CS_NET_PROFIT</th>\n",
       "    </tr>\n",
       "  </thead>\n",
       "  <tbody>\n",
       "    <tr>\n",
       "      <th>1</th>\n",
       "      <td>1</td>\n",
       "      <td>4</td>\n",
       "      <td>2</td>\n",
       "      <td>0</td>\n",
       "      <td>3216</td>\n",
       "      <td>4</td>\n",
       "      <td>98</td>\n",
       "      <td>96.0</td>\n",
       "      <td>15.58</td>\n",
       "      <td>31.31</td>\n",
       "      <td>24.73</td>\n",
       "      <td>631.68</td>\n",
       "      <td>2374.08</td>\n",
       "      <td>1495.68</td>\n",
       "      <td>3005.76</td>\n",
       "      <td>720.96</td>\n",
       "      <td>2374.08</td>\n",
       "      <td>878.40</td>\n",
       "    </tr>\n",
       "    <tr>\n",
       "      <th>2</th>\n",
       "      <td>1</td>\n",
       "      <td>0</td>\n",
       "      <td>5</td>\n",
       "      <td>2</td>\n",
       "      <td>2046</td>\n",
       "      <td>7</td>\n",
       "      <td>4</td>\n",
       "      <td>49.0</td>\n",
       "      <td>31.11</td>\n",
       "      <td>82.44</td>\n",
       "      <td>65.95</td>\n",
       "      <td>808.01</td>\n",
       "      <td>3231.55</td>\n",
       "      <td>1524.39</td>\n",
       "      <td>4039.56</td>\n",
       "      <td>726.67</td>\n",
       "      <td>3231.55</td>\n",
       "      <td>1707.16</td>\n",
       "    </tr>\n",
       "    <tr>\n",
       "      <th>7</th>\n",
       "      <td>1</td>\n",
       "      <td>4</td>\n",
       "      <td>4</td>\n",
       "      <td>0</td>\n",
       "      <td>3364</td>\n",
       "      <td>8</td>\n",
       "      <td>2</td>\n",
       "      <td>76.0</td>\n",
       "      <td>7.19</td>\n",
       "      <td>14.88</td>\n",
       "      <td>13.68</td>\n",
       "      <td>91.20</td>\n",
       "      <td>1039.68</td>\n",
       "      <td>546.44</td>\n",
       "      <td>1130.88</td>\n",
       "      <td>474.24</td>\n",
       "      <td>1039.68</td>\n",
       "      <td>493.24</td>\n",
       "    </tr>\n",
       "  </tbody>\n",
       "</table>\n",
       "</div>"
      ],
      "text/plain": [
       "   CD_GENDER  CD_MARITAL_STATUS  CD_EDUCATION_STATUS  CD_CREDIT_RATING  \\\n",
       "1          1                  4                    2                 0   \n",
       "2          1                  0                    5                 2   \n",
       "7          1                  4                    4                 0   \n",
       "\n",
       "   I_PRODUCT_NAME  I_CATEGORY  I_CLASS  CS_QUANTITY  CS_WHOLESALE_COST  \\\n",
       "1            3216           4       98         96.0              15.58   \n",
       "2            2046           7        4         49.0              31.11   \n",
       "7            3364           8        2         76.0               7.19   \n",
       "\n",
       "   CS_LIST_PRICE  CS_SALES_PRICE  CS_EXT_DISCOUNT_AMT  CS_EXT_SALES_PRICE  \\\n",
       "1          31.31           24.73               631.68             2374.08   \n",
       "2          82.44           65.95               808.01             3231.55   \n",
       "7          14.88           13.68                91.20             1039.68   \n",
       "\n",
       "   CS_EXT_WHOLESALE_COST  CS_EXT_LIST_PRICE  CS_EXT_SHIP_COST  CS_NET_PAID  \\\n",
       "1                1495.68            3005.76            720.96      2374.08   \n",
       "2                1524.39            4039.56            726.67      3231.55   \n",
       "7                 546.44            1130.88            474.24      1039.68   \n",
       "\n",
       "   CS_NET_PROFIT  \n",
       "1         878.40  \n",
       "2        1707.16  \n",
       "7         493.24  "
      ]
     },
     "execution_count": 78,
     "metadata": {},
     "output_type": "execute_result"
    }
   ],
   "source": [
    "df_catalog_sales.head(3)"
   ]
  },
  {
   "cell_type": "code",
   "execution_count": 80,
   "id": "ca6f020a",
   "metadata": {},
   "outputs": [],
   "source": [
    "y=df_catalog_sales['CD_GENDER']\n",
    "X=df_catalog_sales.drop('CD_GENDER',axis=1)"
   ]
  },
  {
   "cell_type": "code",
   "execution_count": 81,
   "id": "057b3080",
   "metadata": {},
   "outputs": [],
   "source": [
    "X_train, X_test, y_train, y_test = train_test_split(X, y, test_size=0.2, random_state=42)"
   ]
  },
  {
   "cell_type": "code",
   "execution_count": 74,
   "id": "895b0153",
   "metadata": {},
   "outputs": [
    {
     "name": "stdout",
     "output_type": "stream",
     "text": [
      "7545\n",
      "3234\n",
      "7545\n",
      "3234\n"
     ]
    }
   ],
   "source": [
    "print(len(X_train))\n",
    "print(len(y_train))\n",
    "\n",
    "print(len(X_test))\n",
    "print(len(y_test))"
   ]
  },
  {
   "cell_type": "code",
   "execution_count": 83,
   "id": "8a267610",
   "metadata": {},
   "outputs": [
    {
     "name": "stdout",
     "output_type": "stream",
     "text": [
      "Classification Report is:\n",
      "               precision    recall  f1-score   support\n",
      "\n",
      "           0       0.47      0.22      0.30      1027\n",
      "           1       0.52      0.78      0.63      1129\n",
      "\n",
      "    accuracy                           0.51      2156\n",
      "   macro avg       0.50      0.50      0.46      2156\n",
      "weighted avg       0.50      0.51      0.47      2156\n",
      "\n",
      "Confusion Matrix:\n",
      " [[227 800]\n",
      " [252 877]]\n",
      "Training Score:\n",
      " 51.988866983648386\n"
     ]
    }
   ],
   "source": [
    "\n",
    "gnb = GaussianNB()\n",
    "gnb.fit(X_train,y_train)\n",
    "y_pred=gnb.predict(X_test)\n",
    "print(\"Classification Report is:\\n\",classification_report(y_test,y_pred))\n",
    "print(\"Confusion Matrix:\\n\",confusion_matrix(y_test,y_pred))\n",
    "print(\"Training Score:\\n\",gnb.score(X_train,y_train)*100)"
   ]
  },
  {
   "cell_type": "code",
   "execution_count": 84,
   "id": "8ad2049b",
   "metadata": {},
   "outputs": [
    {
     "data": {
      "text/plain": [
       "DecisionTreeClassifier(criterion='entropy', max_depth=6, random_state=123)"
      ]
     },
     "execution_count": 84,
     "metadata": {},
     "output_type": "execute_result"
    }
   ],
   "source": [
    "dtree = DecisionTreeClassifier(max_depth=6, random_state=123,criterion='entropy')\n",
    "dtree.fit(X_train,y_train)"
   ]
  },
  {
   "cell_type": "code",
   "execution_count": 85,
   "id": "3a6a450d",
   "metadata": {},
   "outputs": [
    {
     "name": "stdout",
     "output_type": "stream",
     "text": [
      "Classification Report is:\n",
      "               precision    recall  f1-score   support\n",
      "\n",
      "           0       0.45      0.13      0.20      1027\n",
      "           1       0.52      0.86      0.65      1129\n",
      "\n",
      "    accuracy                           0.51      2156\n",
      "   macro avg       0.48      0.49      0.42      2156\n",
      "weighted avg       0.49      0.51      0.43      2156\n",
      "\n",
      "Confusion Matrix:\n",
      " [[131 896]\n",
      " [161 968]]\n",
      "Training Score:\n",
      " 54.4010205264989\n"
     ]
    }
   ],
   "source": [
    "y_pred=dtree.predict(X_test)\n",
    "print(\"Classification Report is:\\n\",classification_report(y_test,y_pred))\n",
    "print(\"Confusion Matrix:\\n\",confusion_matrix(y_test,y_pred))\n",
    "print(\"Training Score:\\n\",dtree.score(X_train,y_train)*100)"
   ]
  },
  {
   "cell_type": "code",
   "execution_count": 86,
   "id": "37d47407",
   "metadata": {},
   "outputs": [
    {
     "data": {
      "text/plain": [
       "RandomForestClassifier()"
      ]
     },
     "execution_count": 86,
     "metadata": {},
     "output_type": "execute_result"
    }
   ],
   "source": [
    "rfc=RandomForestClassifier()\n",
    "rfc.fit(X_train,y_train)"
   ]
  },
  {
   "cell_type": "code",
   "execution_count": 88,
   "id": "88cff3ff",
   "metadata": {},
   "outputs": [
    {
     "name": "stdout",
     "output_type": "stream",
     "text": [
      "Classification Report is:\n",
      "               precision    recall  f1-score   support\n",
      "\n",
      "           0       0.46      0.47      0.47      1027\n",
      "           1       0.51      0.50      0.50      1129\n",
      "\n",
      "    accuracy                           0.49      2156\n",
      "   macro avg       0.48      0.48      0.48      2156\n",
      "weighted avg       0.49      0.49      0.49      2156\n",
      "\n",
      "Confusion Matrix:\n",
      " [[483 544]\n",
      " [565 564]]\n",
      "Training Score:\n",
      " 100.0\n"
     ]
    }
   ],
   "source": [
    "y_pred=rfc.predict(X_test)\n",
    "print(\"Classification Report is:\\n\",classification_report(y_test,y_pred))\n",
    "print(\"Confusion Matrix:\\n\",confusion_matrix(y_test,y_pred))\n",
    "print(\"Training Score:\\n\",rfc.score(X_train,y_train)*100)"
   ]
  },
  {
   "cell_type": "code",
   "execution_count": null,
   "id": "d57503e8",
   "metadata": {},
   "outputs": [],
   "source": []
  },
  {
   "cell_type": "code",
   "execution_count": 89,
   "id": "a16125f1",
   "metadata": {},
   "outputs": [],
   "source": [
    "# Perform Classification Prediction on Credit Rating\n",
    "\n",
    "#df_backup = df_catalog_sales\n",
    "df_catalog_sales = df_backup"
   ]
  },
  {
   "cell_type": "code",
   "execution_count": 90,
   "id": "76ac5aac",
   "metadata": {},
   "outputs": [],
   "source": [
    "# Label Encoding\n",
    "list_category = ['CD_GENDER', 'CD_MARITAL_STATUS', 'CD_EDUCATION_STATUS','CD_CREDIT_RATING',\n",
    "                 'I_PRODUCT_NAME', 'I_CATEGORY', 'I_CLASS']\n",
    "le=LabelEncoder()\n",
    "for i in list_category:\n",
    "    df_catalog_sales[i]=le.fit_transform(df_catalog_sales[i])"
   ]
  },
  {
   "cell_type": "code",
   "execution_count": 91,
   "id": "55c762f7",
   "metadata": {},
   "outputs": [
    {
     "data": {
      "text/html": [
       "<div>\n",
       "<style scoped>\n",
       "    .dataframe tbody tr th:only-of-type {\n",
       "        vertical-align: middle;\n",
       "    }\n",
       "\n",
       "    .dataframe tbody tr th {\n",
       "        vertical-align: top;\n",
       "    }\n",
       "\n",
       "    .dataframe thead th {\n",
       "        text-align: right;\n",
       "    }\n",
       "</style>\n",
       "<table border=\"1\" class=\"dataframe\">\n",
       "  <thead>\n",
       "    <tr style=\"text-align: right;\">\n",
       "      <th></th>\n",
       "      <th>CD_GENDER</th>\n",
       "      <th>CD_MARITAL_STATUS</th>\n",
       "      <th>CD_EDUCATION_STATUS</th>\n",
       "      <th>CD_CREDIT_RATING</th>\n",
       "      <th>I_PRODUCT_NAME</th>\n",
       "      <th>I_CATEGORY</th>\n",
       "      <th>I_CLASS</th>\n",
       "      <th>CS_QUANTITY</th>\n",
       "      <th>CS_WHOLESALE_COST</th>\n",
       "      <th>CS_LIST_PRICE</th>\n",
       "      <th>CS_SALES_PRICE</th>\n",
       "      <th>CS_EXT_DISCOUNT_AMT</th>\n",
       "      <th>CS_EXT_SALES_PRICE</th>\n",
       "      <th>CS_EXT_WHOLESALE_COST</th>\n",
       "      <th>CS_EXT_LIST_PRICE</th>\n",
       "      <th>CS_EXT_SHIP_COST</th>\n",
       "      <th>CS_NET_PAID</th>\n",
       "      <th>CS_NET_PROFIT</th>\n",
       "    </tr>\n",
       "  </thead>\n",
       "  <tbody>\n",
       "    <tr>\n",
       "      <th>1</th>\n",
       "      <td>1</td>\n",
       "      <td>4</td>\n",
       "      <td>2</td>\n",
       "      <td>0</td>\n",
       "      <td>3216</td>\n",
       "      <td>4</td>\n",
       "      <td>98</td>\n",
       "      <td>96.0</td>\n",
       "      <td>15.58</td>\n",
       "      <td>31.31</td>\n",
       "      <td>24.73</td>\n",
       "      <td>631.68</td>\n",
       "      <td>2374.08</td>\n",
       "      <td>1495.68</td>\n",
       "      <td>3005.76</td>\n",
       "      <td>720.96</td>\n",
       "      <td>2374.08</td>\n",
       "      <td>878.40</td>\n",
       "    </tr>\n",
       "    <tr>\n",
       "      <th>2</th>\n",
       "      <td>1</td>\n",
       "      <td>0</td>\n",
       "      <td>5</td>\n",
       "      <td>2</td>\n",
       "      <td>2046</td>\n",
       "      <td>7</td>\n",
       "      <td>4</td>\n",
       "      <td>49.0</td>\n",
       "      <td>31.11</td>\n",
       "      <td>82.44</td>\n",
       "      <td>65.95</td>\n",
       "      <td>808.01</td>\n",
       "      <td>3231.55</td>\n",
       "      <td>1524.39</td>\n",
       "      <td>4039.56</td>\n",
       "      <td>726.67</td>\n",
       "      <td>3231.55</td>\n",
       "      <td>1707.16</td>\n",
       "    </tr>\n",
       "    <tr>\n",
       "      <th>7</th>\n",
       "      <td>1</td>\n",
       "      <td>4</td>\n",
       "      <td>4</td>\n",
       "      <td>0</td>\n",
       "      <td>3364</td>\n",
       "      <td>8</td>\n",
       "      <td>2</td>\n",
       "      <td>76.0</td>\n",
       "      <td>7.19</td>\n",
       "      <td>14.88</td>\n",
       "      <td>13.68</td>\n",
       "      <td>91.20</td>\n",
       "      <td>1039.68</td>\n",
       "      <td>546.44</td>\n",
       "      <td>1130.88</td>\n",
       "      <td>474.24</td>\n",
       "      <td>1039.68</td>\n",
       "      <td>493.24</td>\n",
       "    </tr>\n",
       "  </tbody>\n",
       "</table>\n",
       "</div>"
      ],
      "text/plain": [
       "   CD_GENDER  CD_MARITAL_STATUS  CD_EDUCATION_STATUS  CD_CREDIT_RATING  \\\n",
       "1          1                  4                    2                 0   \n",
       "2          1                  0                    5                 2   \n",
       "7          1                  4                    4                 0   \n",
       "\n",
       "   I_PRODUCT_NAME  I_CATEGORY  I_CLASS  CS_QUANTITY  CS_WHOLESALE_COST  \\\n",
       "1            3216           4       98         96.0              15.58   \n",
       "2            2046           7        4         49.0              31.11   \n",
       "7            3364           8        2         76.0               7.19   \n",
       "\n",
       "   CS_LIST_PRICE  CS_SALES_PRICE  CS_EXT_DISCOUNT_AMT  CS_EXT_SALES_PRICE  \\\n",
       "1          31.31           24.73               631.68             2374.08   \n",
       "2          82.44           65.95               808.01             3231.55   \n",
       "7          14.88           13.68                91.20             1039.68   \n",
       "\n",
       "   CS_EXT_WHOLESALE_COST  CS_EXT_LIST_PRICE  CS_EXT_SHIP_COST  CS_NET_PAID  \\\n",
       "1                1495.68            3005.76            720.96      2374.08   \n",
       "2                1524.39            4039.56            726.67      3231.55   \n",
       "7                 546.44            1130.88            474.24      1039.68   \n",
       "\n",
       "   CS_NET_PROFIT  \n",
       "1         878.40  \n",
       "2        1707.16  \n",
       "7         493.24  "
      ]
     },
     "execution_count": 91,
     "metadata": {},
     "output_type": "execute_result"
    }
   ],
   "source": [
    "df_catalog_sales.head(3)"
   ]
  },
  {
   "cell_type": "code",
   "execution_count": 92,
   "id": "250960e8",
   "metadata": {},
   "outputs": [],
   "source": [
    "y=df_catalog_sales['CD_CREDIT_RATING']\n",
    "X=df_catalog_sales.drop('CD_CREDIT_RATING',axis=1)"
   ]
  },
  {
   "cell_type": "code",
   "execution_count": 93,
   "id": "1176d0fc",
   "metadata": {},
   "outputs": [],
   "source": [
    "X_train, X_test, y_train, y_test = train_test_split(X, y, test_size=0.2, random_state=42)"
   ]
  },
  {
   "cell_type": "code",
   "execution_count": 94,
   "id": "ccee88dd",
   "metadata": {},
   "outputs": [
    {
     "name": "stdout",
     "output_type": "stream",
     "text": [
      "Classification Report is:\n",
      "               precision    recall  f1-score   support\n",
      "\n",
      "           0       0.24      0.15      0.18       563\n",
      "           1       0.25      0.18      0.21       541\n",
      "           2       0.24      0.50      0.32       527\n",
      "           3       0.23      0.14      0.17       525\n",
      "\n",
      "    accuracy                           0.24      2156\n",
      "   macro avg       0.24      0.24      0.22      2156\n",
      "weighted avg       0.24      0.24      0.22      2156\n",
      "\n",
      "Confusion Matrix:\n",
      " [[ 84 117 277  85]\n",
      " [ 89 100 278  74]\n",
      " [ 91  92 261  83]\n",
      " [ 92  92 268  73]]\n",
      "Training Score:\n",
      " 27.12513046503537\n"
     ]
    }
   ],
   "source": [
    "gnb = GaussianNB()\n",
    "gnb.fit(X_train,y_train)\n",
    "y_pred=gnb.predict(X_test)\n",
    "print(\"Classification Report is:\\n\",classification_report(y_test,y_pred))\n",
    "print(\"Confusion Matrix:\\n\",confusion_matrix(y_test,y_pred))\n",
    "print(\"Training Score:\\n\",gnb.score(X_train,y_train)*100)"
   ]
  },
  {
   "cell_type": "code",
   "execution_count": 95,
   "id": "38d448ad",
   "metadata": {},
   "outputs": [
    {
     "name": "stdout",
     "output_type": "stream",
     "text": [
      "Classification Report is:\n",
      "               precision    recall  f1-score   support\n",
      "\n",
      "           0       0.21      0.03      0.05       563\n",
      "           1       0.25      0.74      0.37       541\n",
      "           2       0.22      0.06      0.10       527\n",
      "           3       0.23      0.14      0.17       525\n",
      "\n",
      "    accuracy                           0.24      2156\n",
      "   macro avg       0.23      0.24      0.17      2156\n",
      "weighted avg       0.23      0.24      0.17      2156\n",
      "\n",
      "Confusion Matrix:\n",
      " [[ 15 433  42  73]\n",
      " [ 20 403  40  78]\n",
      " [ 16 396  33  82]\n",
      " [ 20 399  35  71]]\n",
      "Training Score:\n",
      " 28.145656963933668\n"
     ]
    }
   ],
   "source": [
    "dtree = DecisionTreeClassifier(max_depth=6, random_state=123,criterion='entropy')\n",
    "dtree.fit(X_train,y_train)\n",
    "y_pred=dtree.predict(X_test)\n",
    "print(\"Classification Report is:\\n\",classification_report(y_test,y_pred))\n",
    "print(\"Confusion Matrix:\\n\",confusion_matrix(y_test,y_pred))\n",
    "print(\"Training Score:\\n\",dtree.score(X_train,y_train)*100)"
   ]
  },
  {
   "cell_type": "code",
   "execution_count": 96,
   "id": "c328d19f",
   "metadata": {},
   "outputs": [
    {
     "name": "stdout",
     "output_type": "stream",
     "text": [
      "Classification Report is:\n",
      "               precision    recall  f1-score   support\n",
      "\n",
      "           0       0.26      0.26      0.26       563\n",
      "           1       0.23      0.25      0.24       541\n",
      "           2       0.28      0.29      0.29       527\n",
      "           3       0.23      0.20      0.22       525\n",
      "\n",
      "    accuracy                           0.25      2156\n",
      "   macro avg       0.25      0.25      0.25      2156\n",
      "weighted avg       0.25      0.25      0.25      2156\n",
      "\n",
      "Confusion Matrix:\n",
      " [[147 175 122 119]\n",
      " [157 133 136 115]\n",
      " [133 126 155 113]\n",
      " [133 149 137 106]]\n",
      "Training Score:\n",
      " 100.0\n"
     ]
    }
   ],
   "source": [
    "rfc=RandomForestClassifier()\n",
    "rfc.fit(X_train,y_train)\n",
    "y_pred=rfc.predict(X_test)\n",
    "print(\"Classification Report is:\\n\",classification_report(y_test,y_pred))\n",
    "print(\"Confusion Matrix:\\n\",confusion_matrix(y_test,y_pred))\n",
    "print(\"Training Score:\\n\",rfc.score(X_train,y_train)*100)"
   ]
  },
  {
   "cell_type": "code",
   "execution_count": 101,
   "id": "a892f9ce",
   "metadata": {},
   "outputs": [
    {
     "name": "stdout",
     "output_type": "stream",
     "text": [
      "Naive Bayes has an accuracy of 0.248 +/- 0.010\n",
      "Decision Tree has an accuracy of 0.255 +/- 0.008\n",
      "Random Forest has an accuracy of 0.255 +/- 0.018\n",
      "The accuracy of the best model on the testing set is 0.244\n"
     ]
    }
   ],
   "source": [
    "# Train and evaluate models using cross-validation\n",
    "models = [('Naive Bayes', gnb), ('Decision Tree', dtree), ('Random Forest', rfc)]\n",
    "\n",
    "for name, model in models:\n",
    "    scores = cross_val_score(model, X_train, y_train, cv=10, scoring='accuracy')\n",
    "    print(f'{name} has an accuracy of {np.mean(scores):.3f} +/- {np.std(scores):.3f}')\n",
    "\n",
    "# Fit the best model on the training set\n",
    "best_model = RandomForestClassifier(random_state=42)\n",
    "best_model.fit(X_train, y_train)\n",
    "\n",
    "# Evaluate the best model on the testing set\n",
    "y_pred = best_model.predict(X_test)\n",
    "accuracy = accuracy_score(y_test, y_pred)\n",
    "print(f'The accuracy of the best model on the testing set is {accuracy:.3f}')"
   ]
  },
  {
   "cell_type": "code",
   "execution_count": null,
   "id": "3e877e22",
   "metadata": {},
   "outputs": [],
   "source": []
  }
 ],
 "metadata": {
  "kernelspec": {
   "display_name": "Python 3 (ipykernel)",
   "language": "python",
   "name": "python3"
  },
  "language_info": {
   "codemirror_mode": {
    "name": "ipython",
    "version": 3
   },
   "file_extension": ".py",
   "mimetype": "text/x-python",
   "name": "python",
   "nbconvert_exporter": "python",
   "pygments_lexer": "ipython3",
   "version": "3.9.7"
  }
 },
 "nbformat": 4,
 "nbformat_minor": 5
}
